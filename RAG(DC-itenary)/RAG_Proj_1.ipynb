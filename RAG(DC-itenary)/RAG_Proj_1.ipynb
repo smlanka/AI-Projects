{
  "nbformat": 4,
  "nbformat_minor": 0,
  "metadata": {
    "colab": {
      "provenance": []
    },
    "kernelspec": {
      "name": "python3",
      "display_name": "Python 3"
    },
    "language_info": {
      "name": "python"
    }
  },
  "cells": [
    {
      "cell_type": "code",
      "execution_count": null,
      "metadata": {
        "id": "HNQb5IhvLLZb"
      },
      "outputs": [],
      "source": [
        "!pip install sentence-transformers faiss-gpu"
      ]
    },
    {
      "cell_type": "markdown",
      "source": [
        "Loading data and generating embedding and faiss indexes."
      ],
      "metadata": {
        "id": "ZFWZlPM43FeZ"
      }
    },
    {
      "cell_type": "code",
      "source": [
        "import pandas as pd\n",
        "from sentence_transformers import SentenceTransformer\n",
        "import faiss\n",
        "import numpy as np\n",
        "\n",
        "data = pd.read_csv('data.csv')\n",
        "\n",
        "\n",
        "model = SentenceTransformer('all-MiniLM-L6-v2')\n",
        "\n",
        "\n",
        "embeddings = model.encode(data['text_for_embedding'].tolist(), convert_to_tensor=False)\n",
        "\n",
        "data['embeddings'] = list(embeddings)\n",
        "\n",
        "\n",
        "faiss_embeddings = np.array(embeddings).astype('float32')\n",
        "\n",
        "\n",
        "index = faiss.IndexFlatL2(faiss_embeddings.shape[1])\n",
        "index.add(faiss_embeddings)  # Add vectors to the index\n"
      ],
      "metadata": {
        "id": "WSs0s5swLQ3-"
      },
      "execution_count": null,
      "outputs": []
    },
    {
      "cell_type": "code",
      "source": [
        "!pip install openai==0.28"
      ],
      "metadata": {
        "id": "BogSwHeCMRMv",
        "colab": {
          "base_uri": "https://localhost:8080/"
        },
        "outputId": "d5fe9c9f-19d1-48af-ce56-3685528bbd74"
      },
      "execution_count": null,
      "outputs": [
        {
          "output_type": "stream",
          "name": "stdout",
          "text": [
            "Collecting openai==0.28\n",
            "  Downloading openai-0.28.0-py3-none-any.whl.metadata (13 kB)\n",
            "Requirement already satisfied: requests>=2.20 in /usr/local/lib/python3.10/dist-packages (from openai==0.28) (2.32.3)\n",
            "Requirement already satisfied: tqdm in /usr/local/lib/python3.10/dist-packages (from openai==0.28) (4.66.5)\n",
            "Requirement already satisfied: aiohttp in /usr/local/lib/python3.10/dist-packages (from openai==0.28) (3.10.5)\n",
            "Requirement already satisfied: charset-normalizer<4,>=2 in /usr/local/lib/python3.10/dist-packages (from requests>=2.20->openai==0.28) (3.3.2)\n",
            "Requirement already satisfied: idna<4,>=2.5 in /usr/local/lib/python3.10/dist-packages (from requests>=2.20->openai==0.28) (3.8)\n",
            "Requirement already satisfied: urllib3<3,>=1.21.1 in /usr/local/lib/python3.10/dist-packages (from requests>=2.20->openai==0.28) (2.0.7)\n",
            "Requirement already satisfied: certifi>=2017.4.17 in /usr/local/lib/python3.10/dist-packages (from requests>=2.20->openai==0.28) (2024.7.4)\n",
            "Requirement already satisfied: aiohappyeyeballs>=2.3.0 in /usr/local/lib/python3.10/dist-packages (from aiohttp->openai==0.28) (2.4.0)\n",
            "Requirement already satisfied: aiosignal>=1.1.2 in /usr/local/lib/python3.10/dist-packages (from aiohttp->openai==0.28) (1.3.1)\n",
            "Requirement already satisfied: attrs>=17.3.0 in /usr/local/lib/python3.10/dist-packages (from aiohttp->openai==0.28) (24.2.0)\n",
            "Requirement already satisfied: frozenlist>=1.1.1 in /usr/local/lib/python3.10/dist-packages (from aiohttp->openai==0.28) (1.4.1)\n",
            "Requirement already satisfied: multidict<7.0,>=4.5 in /usr/local/lib/python3.10/dist-packages (from aiohttp->openai==0.28) (6.0.5)\n",
            "Requirement already satisfied: yarl<2.0,>=1.0 in /usr/local/lib/python3.10/dist-packages (from aiohttp->openai==0.28) (1.9.4)\n",
            "Requirement already satisfied: async-timeout<5.0,>=4.0 in /usr/local/lib/python3.10/dist-packages (from aiohttp->openai==0.28) (4.0.3)\n",
            "Downloading openai-0.28.0-py3-none-any.whl (76 kB)\n",
            "\u001b[2K   \u001b[90m━━━━━━━━━━━━━━━━━━━━━━━━━━━━━━━━━━━━━━━━\u001b[0m \u001b[32m76.5/76.5 kB\u001b[0m \u001b[31m4.8 MB/s\u001b[0m eta \u001b[36m0:00:00\u001b[0m\n",
            "\u001b[?25hInstalling collected packages: openai\n",
            "Successfully installed openai-0.28.0\n"
          ]
        }
      ]
    },
    {
      "cell_type": "code",
      "source": [
        "import openai"
      ],
      "metadata": {
        "id": "SolkIJUGMY2e"
      },
      "execution_count": null,
      "outputs": []
    },
    {
      "cell_type": "markdown",
      "source": [
        "Retriving documents using cosine similarity"
      ],
      "metadata": {
        "id": "ozvPPfg_3TTw"
      }
    },
    {
      "cell_type": "code",
      "source": [
        "import numpy as np\n",
        "from sklearn.metrics.pairwise import cosine_similarity\n",
        "\n",
        "def retrieve_itinerary_documents(query, index, model, data, k=10):\n",
        "    query_embedding = model.encode([query], convert_to_tensor=False)\n",
        "    query_embedding = np.array(query_embedding).astype('float32')\n",
        "    D, I = index.search(query_embedding, k)\n",
        "    retrieved_docs = data.iloc[I[0]]\n",
        "\n",
        "    if 'embeddings' not in retrieved_docs.columns:\n",
        "        raise KeyError(\"The 'embeddings' column is missing from the DataFrame.\")\n",
        "\n",
        "\n",
        "    doc_embeddings = np.vstack(retrieved_docs['embeddings'].apply(np.array))\n",
        "\n",
        "\n",
        "    similarities = cosine_similarity(query_embedding.reshape(1, -1), doc_embeddings)\n",
        "    # print(\"Similarities:\", similarities)  # Debugging line to check similarities\n",
        "\n",
        "\n",
        "    relevant_docs = retrieved_docs[similarities.flatten() > 0.3]  # Adjust threshold if needed\n",
        "\n",
        "    return relevant_docs\n"
      ],
      "metadata": {
        "id": "JO_Q7W7aoAPc"
      },
      "execution_count": null,
      "outputs": []
    },
    {
      "cell_type": "code",
      "source": [
        "# df['text_for_embedding'] = df['localName'] + ' ' + df['type']"
      ],
      "metadata": {
        "id": "LDHcTpWyZBor"
      },
      "execution_count": null,
      "outputs": []
    },
    {
      "cell_type": "markdown",
      "source": [
        "Generating Itinerary"
      ],
      "metadata": {
        "id": "6INmDQNt3Yvp"
      }
    },
    {
      "cell_type": "code",
      "source": [
        "def generate_itinerary(retrieved_docs, api_key):\n",
        "  if retrieved_docs.empty:\n",
        "        return \"I don't know\"\n",
        "\n",
        "  context = ' '.join(retrieved_docs['text_for_embedding'].tolist())\n",
        "  full_prompt = f\"Create a detailed 3-day itinerary for visiting Washington DC based on these locations: {context}\"\n",
        "\n",
        "  response = openai.ChatCompletion.create(\n",
        "      model=\"gpt-3.5-turbo\",\n",
        "      messages=[{\"role\": \"system\", \"content\": \"You are a travel assistant.\"},\n",
        "                {\"role\": \"user\", \"content\": full_prompt}],\n",
        "      api_key=api_key\n",
        "  )\n",
        "  return response['choices'][0]['message']['content']"
      ],
      "metadata": {
        "id": "9lKtCW62LSMV"
      },
      "execution_count": null,
      "outputs": []
    },
    {
      "cell_type": "code",
      "source": [
        "query = \"Give me 3 day itenary for visiting DC\"\n",
        "retrieved_docs = retrieve_itinerary_documents(query, index, model, data, k=10)\n",
        "response = generate_itinerary(retrieved_docs, 'open ai api key')\n",
        "print(response)"
      ],
      "metadata": {
        "colab": {
          "base_uri": "https://localhost:8080/"
        },
        "id": "n5O0wOEzLSJo",
        "outputId": "9459230f-62c6-431c-ad36-ca36cfc9f9c2"
      },
      "execution_count": null,
      "outputs": [
        {
          "output_type": "stream",
          "name": "stdout",
          "text": [
            "Similarities: [[0.43265986 0.41449198 0.39407778 0.3846485  0.37838867 0.37160242\n",
            "  0.3679542  0.34996235 0.34931582 0.34903243]]\n",
            "Day 1:\n",
            "- Check in at The LINE DC HOTEL\n",
            "- Visit the Smithsonian Institution Building\n",
            "- Explore the National Mall and see iconic landmarks like the Lincoln Memorial, Washington Monument, and the U.S. Capitol\n",
            "- Have lunch at a local food truck or restaurant near the National Mall\n",
            "- Visit the United States Holocaust Memorial Museum\n",
            "- Relax and enjoy dinner at a nearby restaurant\n",
            "- Overnight stay at The LINE DC HOTEL\n",
            "\n",
            "Day 2:\n",
            "- Check out of The LINE DC HOTEL and check in at citizenM Washington DC Capitol HOTEL\n",
            "- Take a guided tour of the Washington Monument\n",
            "- Visit the White House and stroll through Lafayette Square\n",
            "- Have lunch in the vibrant neighborhood of Adams Morgan\n",
            "- Explore the vibrant streets and boutique shops of Georgetown\n",
            "- Visit The Royal Sonesta Washington, DC Capitol Hill\n",
            "- Dinner at a local restaurant in Capitol Hill\n",
            "- Overnight stay at citizenM Washington DC Capitol HOTEL\n",
            "\n",
            "Day 3:\n",
            "- Check out of citizenM Washington DC Capitol HOTEL and check in at YOTEL Washington DC\n",
            "- Explore the vibrant neighborhood of NoMa, visit local coffee shops, and browse through unique boutiques\n",
            "- Visit the United States Capitol Building\n",
            "- Explore the Library of Congress and Supreme Court of the United States\n",
            "- Have lunch at a local eatery in NoMa\n",
            "- Check out of YOTEL Washington DC\n",
            "- Visit the National Gallery of Art\n",
            "- Check in at JW Marriott Washington, Dc\n",
            "- Explore the vibrant nightlife in downtown DC\n",
            "- Overnight stay at JW Marriott Washington, Dc.\n",
            "\n",
            "Optional Day 4:\n",
            "- Check out of JW Marriott Washington, Dc\n",
            "- Visit the nearby Generator Washington DC and take a walking tour of the city\n",
            "- Visit the National Museum of American History\n",
            "- Have lunch at a local cafe\n",
            "- Explore Union Station and take a train to your next destination\n",
            "\n",
            "This itinerary provides a mix of cultural experiences, iconic landmarks, and local flavor, ensuring you get a well-rounded experience of Washington DC in just 3 days. Enjoy your trip!\n"
          ]
        }
      ]
    },
    {
      "cell_type": "code",
      "source": [],
      "metadata": {
        "id": "ttokHQCgLSG-"
      },
      "execution_count": null,
      "outputs": []
    },
    {
      "cell_type": "code",
      "source": [],
      "metadata": {
        "id": "YDFnOxjoLQxN"
      },
      "execution_count": null,
      "outputs": []
    },
    {
      "cell_type": "code",
      "source": [],
      "metadata": {
        "id": "5EMdYvIGLQuu"
      },
      "execution_count": null,
      "outputs": []
    },
    {
      "cell_type": "code",
      "source": [],
      "metadata": {
        "id": "jb5L_tAWLQr-"
      },
      "execution_count": null,
      "outputs": []
    }
  ]
}