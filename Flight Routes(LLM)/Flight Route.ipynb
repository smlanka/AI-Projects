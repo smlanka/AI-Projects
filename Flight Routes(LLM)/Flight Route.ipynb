{
  "cells": [
    {
      "cell_type": "markdown",
      "id": "7bcdad0e-b67c-4927-b00e-3a4d950cd8ce",
      "metadata": {
        "id": "7bcdad0e-b67c-4927-b00e-3a4d950cd8ce"
      },
      "source": [
        "Flight Route \n",
        "\n",
        "Leveraging OpenAI gpt-3.5-turbo to find the most optimal flight route from the dataseet."
      ]
    },
    {
      "cell_type": "markdown",
      "id": "6f49cb10-f895-41f4-aa97-da606d0084d4",
      "metadata": {
        "id": "6f49cb10-f895-41f4-aa97-da606d0084d4"
      },
      "source": [
        "## Setup"
      ]
    },
    {
      "cell_type": "code",
      "execution_count": null,
      "id": "32036e70",
      "metadata": {
        "colab": {
          "base_uri": "https://localhost:8080/"
        },
        "id": "32036e70",
        "outputId": "722d0c81-bb3f-4039-f747-334a986922af"
      },
      "outputs": [
        {
          "name": "stdout",
          "output_type": "stream",
          "text": [
            "Collecting openai\n",
            "  Downloading openai-1.28.1-py3-none-any.whl (320 kB)\n",
            "\u001b[2K     \u001b[90m━━━━━━━━━━━━━━━━━━━━━━━━━━━━━━━━━━━━━━━━\u001b[0m \u001b[32m320.1/320.1 kB\u001b[0m \u001b[31m5.8 MB/s\u001b[0m eta \u001b[36m0:00:00\u001b[0m\n",
            "\u001b[?25hRequirement already satisfied: anyio<5,>=3.5.0 in /usr/local/lib/python3.10/dist-packages (from openai) (3.7.1)\n",
            "Requirement already satisfied: distro<2,>=1.7.0 in /usr/lib/python3/dist-packages (from openai) (1.7.0)\n",
            "Collecting httpx<1,>=0.23.0 (from openai)\n",
            "  Downloading httpx-0.27.0-py3-none-any.whl (75 kB)\n",
            "\u001b[2K     \u001b[90m━━━━━━━━━━━━━━━━━━━━━━━━━━━━━━━━━━━━━━━━\u001b[0m \u001b[32m75.6/75.6 kB\u001b[0m \u001b[31m5.7 MB/s\u001b[0m eta \u001b[36m0:00:00\u001b[0m\n",
            "\u001b[?25hRequirement already satisfied: pydantic<3,>=1.9.0 in /usr/local/lib/python3.10/dist-packages (from openai) (2.7.1)\n",
            "Requirement already satisfied: sniffio in /usr/local/lib/python3.10/dist-packages (from openai) (1.3.1)\n",
            "Requirement already satisfied: tqdm>4 in /usr/local/lib/python3.10/dist-packages (from openai) (4.66.4)\n",
            "Requirement already satisfied: typing-extensions<5,>=4.7 in /usr/local/lib/python3.10/dist-packages (from openai) (4.11.0)\n",
            "Requirement already satisfied: idna>=2.8 in /usr/local/lib/python3.10/dist-packages (from anyio<5,>=3.5.0->openai) (3.7)\n",
            "Requirement already satisfied: exceptiongroup in /usr/local/lib/python3.10/dist-packages (from anyio<5,>=3.5.0->openai) (1.2.1)\n",
            "Requirement already satisfied: certifi in /usr/local/lib/python3.10/dist-packages (from httpx<1,>=0.23.0->openai) (2024.2.2)\n",
            "Collecting httpcore==1.* (from httpx<1,>=0.23.0->openai)\n",
            "  Downloading httpcore-1.0.5-py3-none-any.whl (77 kB)\n",
            "\u001b[2K     \u001b[90m━━━━━━━━━━━━━━━━━━━━━━━━━━━━━━━━━━━━━━━━\u001b[0m \u001b[32m77.9/77.9 kB\u001b[0m \u001b[31m7.8 MB/s\u001b[0m eta \u001b[36m0:00:00\u001b[0m\n",
            "\u001b[?25hCollecting h11<0.15,>=0.13 (from httpcore==1.*->httpx<1,>=0.23.0->openai)\n",
            "  Downloading h11-0.14.0-py3-none-any.whl (58 kB)\n",
            "\u001b[2K     \u001b[90m━━━━━━━━━━━━━━━━━━━━━━━━━━━━━━━━━━━━━━━━\u001b[0m \u001b[32m58.3/58.3 kB\u001b[0m \u001b[31m4.5 MB/s\u001b[0m eta \u001b[36m0:00:00\u001b[0m\n",
            "\u001b[?25hRequirement already satisfied: annotated-types>=0.4.0 in /usr/local/lib/python3.10/dist-packages (from pydantic<3,>=1.9.0->openai) (0.6.0)\n",
            "Requirement already satisfied: pydantic-core==2.18.2 in /usr/local/lib/python3.10/dist-packages (from pydantic<3,>=1.9.0->openai) (2.18.2)\n",
            "Installing collected packages: h11, httpcore, httpx, openai\n",
            "Successfully installed h11-0.14.0 httpcore-1.0.5 httpx-0.27.0 openai-1.28.1\n"
          ]
        }
      ],
      "source": [
        "# make sure to use the latest version of the openai python package\n",
        "!pip install --upgrade openai"
      ]
    },
    {
      "cell_type": "code",
      "execution_count": null,
      "id": "HH7NRMIVkS7G",
      "metadata": {
        "colab": {
          "base_uri": "https://localhost:8080/"
        },
        "id": "HH7NRMIVkS7G",
        "outputId": "5b68641d-1c5b-4b03-a1f9-7fad1d0e1829"
      },
      "outputs": [
        {
          "name": "stdout",
          "output_type": "stream",
          "text": [
            "Mounted at /content/drive\n"
          ]
        }
      ],
      "source": [
        "from google.colab import files, drive\n",
        "\n",
        "drive.mount('/content/drive')"
      ]
    },
    {
      "cell_type": "code",
      "execution_count": null,
      "id": "6e1f4403-37e1-4115-a215-12fd7daa1eb6",
      "metadata": {
        "id": "6e1f4403-37e1-4115-a215-12fd7daa1eb6"
      },
      "outputs": [],
      "source": [
        "import json\n",
        "import openai\n",
        "import os\n",
        "import pandas as pd\n",
        "from pprint import pprint\n",
        "\n",
        "client = openai.OpenAI(api_key=os.environ.get(\"OPENAI_API_KEY\", \"api_key\"))"
      ]
    },
    {
      "cell_type": "code",
      "execution_count": null,
      "id": "cUMO2J_dLFQW",
      "metadata": {
        "colab": {
          "base_uri": "https://localhost:8080/"
        },
        "id": "cUMO2J_dLFQW",
        "outputId": "17454da5-0469-41e5-a995-f7c80ebd7826"
      },
      "outputs": [
        {
          "name": "stdout",
          "output_type": "stream",
          "text": [
            "Drive already mounted at /content/drive; to attempt to forcibly remount, call drive.mount(\"/content/drive\", force_remount=True).\n"
          ]
        }
      ],
      "source": [
        "from google.colab import drive\n",
        "drive.mount('/content/drive')"
      ]
    },
    {
      "cell_type": "markdown",
      "id": "a468d660",
      "metadata": {
        "id": "a468d660"
      },
      "source": [
        "Since, Fine-tuning works best when focused on a particular domain, the dataset is both focused enough for the model to learn, but general enough that unseen examples won't be missed. "
      ]
    },
    {
      "cell_type": "code",
      "execution_count": null,
      "id": "f57ebc23-14b7-47f9-90b8-1d791ccfc9bc",
      "metadata": {
        "colab": {
          "base_uri": "https://localhost:8080/",
          "height": 486
        },
        "id": "f57ebc23-14b7-47f9-90b8-1d791ccfc9bc",
        "outputId": "5462cf6d-4b6e-4850-aa02-1a8b7d08c111"
      },
      "outputs": [
        {
          "data": {
            "application/vnd.google.colaboratory.intrinsic+json": {
              "summary": "{\n  \"name\": \"airline_df\",\n  \"rows\": 5001,\n  \"fields\": [\n    {\n      \"column\": \"Start Date\",\n      \"properties\": {\n        \"dtype\": \"object\",\n        \"num_unique_values\": 221,\n        \"samples\": [\n          \"04/11/2023\",\n          \"09/04/2023\",\n          \"07/09/2023\"\n        ],\n        \"semantic_type\": \"\",\n        \"description\": \"\"\n      }\n    },\n    {\n      \"column\": \"Departure Airport\",\n      \"properties\": {\n        \"dtype\": \"string\",\n        \"num_unique_values\": 3665,\n        \"samples\": [\n          \"Pongtiku Airport\",\n          \"Ammassivik Heliport\",\n          \"Rotuma Airport\"\n        ],\n        \"semantic_type\": \"\",\n        \"description\": \"\"\n      }\n    },\n    {\n      \"column\": \"Departure City\",\n      \"properties\": {\n        \"dtype\": \"string\",\n        \"num_unique_values\": 3474,\n        \"samples\": [\n          \"Mpumalanga\",\n          \"Finsterwalde\",\n          \"Jiansanjiang\"\n        ],\n        \"semantic_type\": \"\",\n        \"description\": \"\"\n      }\n    },\n    {\n      \"column\": \"Departure Country\",\n      \"properties\": {\n        \"dtype\": \"category\",\n        \"num_unique_values\": 213,\n        \"samples\": [\n          \"Pakistan\",\n          \"Bosnia and Herzegovina\",\n          \"Central African Republic\"\n        ],\n        \"semantic_type\": \"\",\n        \"description\": \"\"\n      }\n    },\n    {\n      \"column\": \"Destination Airport\",\n      \"properties\": {\n        \"dtype\": \"string\",\n        \"num_unique_values\": 3662,\n        \"samples\": [\n          \"Woensdrecht Air Base\",\n          \"Nanaimo Harbour Water Airport\",\n          \"Khabarovsk Airport\"\n        ],\n        \"semantic_type\": \"\",\n        \"description\": \"\"\n      }\n    },\n    {\n      \"column\": \"Destination City\",\n      \"properties\": {\n        \"dtype\": \"string\",\n        \"num_unique_values\": 3467,\n        \"samples\": [\n          \"Tomsk\",\n          \"Calvinia\",\n          \"Heraklion\"\n        ],\n        \"semantic_type\": \"\",\n        \"description\": \"\"\n      }\n    },\n    {\n      \"column\": \"Destination Country\",\n      \"properties\": {\n        \"dtype\": \"category\",\n        \"num_unique_values\": 220,\n        \"samples\": [\n          \"Yemen\",\n          \"Malta\",\n          \"New Zealand\"\n        ],\n        \"semantic_type\": \"\",\n        \"description\": \"\"\n      }\n    },\n    {\n      \"column\": \"Layover Airport\",\n      \"properties\": {\n        \"dtype\": \"string\",\n        \"num_unique_values\": 3657,\n        \"samples\": [\n          \"Port-de-Paix Airport\",\n          \"Reyes Airport\",\n          \"Canc\\u00c3\\u00ban International Airport\"\n        ],\n        \"semantic_type\": \"\",\n        \"description\": \"\"\n      }\n    },\n    {\n      \"column\": \"Layover City\",\n      \"properties\": {\n        \"dtype\": \"string\",\n        \"num_unique_values\": 3437,\n        \"samples\": [\n          \"Langebaanweg\",\n          \"East Midlands\",\n          \"Rochefort\"\n        ],\n        \"semantic_type\": \"\",\n        \"description\": \"\"\n      }\n    },\n    {\n      \"column\": \"Layover Country\",\n      \"properties\": {\n        \"dtype\": \"category\",\n        \"num_unique_values\": 221,\n        \"samples\": [\n          \"Namibia\",\n          \"Mozambique\",\n          \"Saudi Arabia\"\n        ],\n        \"semantic_type\": \"\",\n        \"description\": \"\"\n      }\n    },\n    {\n      \"column\": \"Layover Time\",\n      \"properties\": {\n        \"dtype\": \"number\",\n        \"std\": 1.7172923043476656,\n        \"min\": 1.0,\n        \"max\": 6.0,\n        \"num_unique_values\": 6,\n        \"samples\": [\n          4.0,\n          5.0,\n          2.0\n        ],\n        \"semantic_type\": \"\",\n        \"description\": \"\"\n      }\n    },\n    {\n      \"column\": \"Flight Duration\",\n      \"properties\": {\n        \"dtype\": \"number\",\n        \"std\": 3.443559057108787,\n        \"min\": 1.0,\n        \"max\": 12.0,\n        \"num_unique_values\": 12,\n        \"samples\": [\n          10.0,\n          7.0,\n          6.0\n        ],\n        \"semantic_type\": \"\",\n        \"description\": \"\"\n      }\n    },\n    {\n      \"column\": \"Airline\",\n      \"properties\": {\n        \"dtype\": \"string\",\n        \"num_unique_values\": 4571,\n        \"samples\": [\n          \"Archer, Montgomery and Sexton\",\n          \"Jones Inc\",\n          \"Frank-Davis\"\n        ],\n        \"semantic_type\": \"\",\n        \"description\": \"\"\n      }\n    },\n    {\n      \"column\": \"Flight Number\",\n      \"properties\": {\n        \"dtype\": \"string\",\n        \"num_unique_values\": 4999,\n        \"samples\": [\n          \"PGM161\",\n          \"JHL462\",\n          \"GAL538\"\n        ],\n        \"semantic_type\": \"\",\n        \"description\": \"\"\n      }\n    },\n    {\n      \"column\": \"NER\",\n      \"properties\": {\n        \"dtype\": \"string\",\n        \"num_unique_values\": 5001,\n        \"samples\": [\n          \"Safdarjung Airport\\nDelhi\\nIndia\\nLambarene Airport\\nLambarene\\nGabon\\nCummings, Williams and Brown\\nFOP121\\nPoint Lay LRRS Airport\\nPoint Lay\\nUnited States\\n2.0\\n11.0\",\n          \"General Villamil Airport\\nIsabela\\nEcuador\\nGeneral Abelardo L. Rodr\\u00c3\\u00adguez International Airport\\nTijuana\\nMexico\\nPhillips, Peterson and Todd\\nUEW697\\nAd\\u00c4\\u00b1yaman Airport\\nAdiyaman\\nTurkey\\n4.0\\n11.0\",\n          \"Shenzhen Bao'an International Airport\\nShenzhen\\nChina\\nWiarton Airport\\nWiarton\\nCanada\\nLivingston-Smith\\nDWG848\\nFort St John Airport\\nFort Saint John\\nCanada\\n6.0\\n3.0\"\n        ],\n        \"semantic_type\": \"\",\n        \"description\": \"\"\n      }\n    }\n  ]\n}",
              "type": "dataframe",
              "variable_name": "airline_df"
            },
            "text/html": [
              "\n",
              "  <div id=\"df-ab57b705-92db-4e95-8e29-6f3bbed64880\" class=\"colab-df-container\">\n",
              "    <div>\n",
              "<style scoped>\n",
              "    .dataframe tbody tr th:only-of-type {\n",
              "        vertical-align: middle;\n",
              "    }\n",
              "\n",
              "    .dataframe tbody tr th {\n",
              "        vertical-align: top;\n",
              "    }\n",
              "\n",
              "    .dataframe thead th {\n",
              "        text-align: right;\n",
              "    }\n",
              "</style>\n",
              "<table border=\"1\" class=\"dataframe\">\n",
              "  <thead>\n",
              "    <tr style=\"text-align: right;\">\n",
              "      <th></th>\n",
              "      <th>Start Date</th>\n",
              "      <th>Departure Airport</th>\n",
              "      <th>Departure City</th>\n",
              "      <th>Departure Country</th>\n",
              "      <th>Destination Airport</th>\n",
              "      <th>Destination City</th>\n",
              "      <th>Destination Country</th>\n",
              "      <th>Layover Airport</th>\n",
              "      <th>Layover City</th>\n",
              "      <th>Layover Country</th>\n",
              "      <th>Layover Time</th>\n",
              "      <th>Flight Duration</th>\n",
              "      <th>Airline</th>\n",
              "      <th>Flight Number</th>\n",
              "      <th>NER</th>\n",
              "    </tr>\n",
              "  </thead>\n",
              "  <tbody>\n",
              "    <tr>\n",
              "      <th>0</th>\n",
              "      <td>10/08/2023</td>\n",
              "      <td>Ie Shima Auxiliary Air Base</td>\n",
              "      <td>Iejima</td>\n",
              "      <td>Japan</td>\n",
              "      <td>Sandefjord Airport</td>\n",
              "      <td>Torp</td>\n",
              "      <td>Sandefjord</td>\n",
              "      <td>Roudnice Airport</td>\n",
              "      <td>Roudnice nad Lebem</td>\n",
              "      <td>Czech Republic</td>\n",
              "      <td>4.0</td>\n",
              "      <td>6.0</td>\n",
              "      <td>Alexander-Byrd</td>\n",
              "      <td>EAU460</td>\n",
              "      <td>Ie Shima Auxiliary Air Base\\nIejima\\nJapan\\nSa...</td>\n",
              "    </tr>\n",
              "    <tr>\n",
              "      <th>1</th>\n",
              "      <td>08/20/2023</td>\n",
              "      <td>Mayor Buenaventura Vivas International Airport</td>\n",
              "      <td>Santo Domingo</td>\n",
              "      <td>Venezuela</td>\n",
              "      <td>Akhiok Airport</td>\n",
              "      <td>Akhiok</td>\n",
              "      <td>United States</td>\n",
              "      <td>CapitÃ¡n Manuel RÃ­os Airbase</td>\n",
              "      <td>Carrizal</td>\n",
              "      <td>Venezuela</td>\n",
              "      <td>5.0</td>\n",
              "      <td>1.0</td>\n",
              "      <td>Cole and Sons</td>\n",
              "      <td>EIZ862</td>\n",
              "      <td>Mayor Buenaventura Vivas International Airport...</td>\n",
              "    </tr>\n",
              "    <tr>\n",
              "      <th>2</th>\n",
              "      <td>11/04/2023</td>\n",
              "      <td>Berbera Airport</td>\n",
              "      <td>Berbera</td>\n",
              "      <td>Somalia</td>\n",
              "      <td>Majors Airport</td>\n",
              "      <td>Greenvile</td>\n",
              "      <td>United States</td>\n",
              "      <td>Roxas Airport</td>\n",
              "      <td>Roxas City</td>\n",
              "      <td>Philippines</td>\n",
              "      <td>4.0</td>\n",
              "      <td>12.0</td>\n",
              "      <td>Morgan Inc</td>\n",
              "      <td>RXD676</td>\n",
              "      <td>Berbera Airport\\nBerbera\\nSomalia\\nMajors Airp...</td>\n",
              "    </tr>\n",
              "    <tr>\n",
              "      <th>3</th>\n",
              "      <td>09/01/2023</td>\n",
              "      <td>Roshchino International Airport</td>\n",
              "      <td>Tyumen</td>\n",
              "      <td>Russia</td>\n",
              "      <td>Aalborg Airport</td>\n",
              "      <td>Aalborg</td>\n",
              "      <td>Denmark</td>\n",
              "      <td>Benin Airport</td>\n",
              "      <td>Benin</td>\n",
              "      <td>Nigeria</td>\n",
              "      <td>6.0</td>\n",
              "      <td>11.0</td>\n",
              "      <td>Lucero-Lewis</td>\n",
              "      <td>HGE223</td>\n",
              "      <td>Roshchino International Airport\\nTyumen\\nRussi...</td>\n",
              "    </tr>\n",
              "    <tr>\n",
              "      <th>4</th>\n",
              "      <td>05/27/2023</td>\n",
              "      <td>Brustem Airfield Sint Truiden</td>\n",
              "      <td>Sint-truiden</td>\n",
              "      <td>Belgium</td>\n",
              "      <td>Kenneth Kaunda International Airport Lusaka</td>\n",
              "      <td>Lusaka</td>\n",
              "      <td>Zambia</td>\n",
              "      <td>Cozumel International Airport</td>\n",
              "      <td>Cozumel</td>\n",
              "      <td>Mexico</td>\n",
              "      <td>4.0</td>\n",
              "      <td>1.0</td>\n",
              "      <td>Bernard LLC</td>\n",
              "      <td>JRO437</td>\n",
              "      <td>Brustem Airfield Sint Truiden\\nSint-truiden\\nB...</td>\n",
              "    </tr>\n",
              "  </tbody>\n",
              "</table>\n",
              "</div>\n",
              "    <div class=\"colab-df-buttons\">\n",
              "\n",
              "  <div class=\"colab-df-container\">\n",
              "    <button class=\"colab-df-convert\" onclick=\"convertToInteractive('df-ab57b705-92db-4e95-8e29-6f3bbed64880')\"\n",
              "            title=\"Convert this dataframe to an interactive table.\"\n",
              "            style=\"display:none;\">\n",
              "\n",
              "  <svg xmlns=\"http://www.w3.org/2000/svg\" height=\"24px\" viewBox=\"0 -960 960 960\">\n",
              "    <path d=\"M120-120v-720h720v720H120Zm60-500h600v-160H180v160Zm220 220h160v-160H400v160Zm0 220h160v-160H400v160ZM180-400h160v-160H180v160Zm440 0h160v-160H620v160ZM180-180h160v-160H180v160Zm440 0h160v-160H620v160Z\"/>\n",
              "  </svg>\n",
              "    </button>\n",
              "\n",
              "  <style>\n",
              "    .colab-df-container {\n",
              "      display:flex;\n",
              "      gap: 12px;\n",
              "    }\n",
              "\n",
              "    .colab-df-convert {\n",
              "      background-color: #E8F0FE;\n",
              "      border: none;\n",
              "      border-radius: 50%;\n",
              "      cursor: pointer;\n",
              "      display: none;\n",
              "      fill: #1967D2;\n",
              "      height: 32px;\n",
              "      padding: 0 0 0 0;\n",
              "      width: 32px;\n",
              "    }\n",
              "\n",
              "    .colab-df-convert:hover {\n",
              "      background-color: #E2EBFA;\n",
              "      box-shadow: 0px 1px 2px rgba(60, 64, 67, 0.3), 0px 1px 3px 1px rgba(60, 64, 67, 0.15);\n",
              "      fill: #174EA6;\n",
              "    }\n",
              "\n",
              "    .colab-df-buttons div {\n",
              "      margin-bottom: 4px;\n",
              "    }\n",
              "\n",
              "    [theme=dark] .colab-df-convert {\n",
              "      background-color: #3B4455;\n",
              "      fill: #D2E3FC;\n",
              "    }\n",
              "\n",
              "    [theme=dark] .colab-df-convert:hover {\n",
              "      background-color: #434B5C;\n",
              "      box-shadow: 0px 1px 3px 1px rgba(0, 0, 0, 0.15);\n",
              "      filter: drop-shadow(0px 1px 2px rgba(0, 0, 0, 0.3));\n",
              "      fill: #FFFFFF;\n",
              "    }\n",
              "  </style>\n",
              "\n",
              "    <script>\n",
              "      const buttonEl =\n",
              "        document.querySelector('#df-ab57b705-92db-4e95-8e29-6f3bbed64880 button.colab-df-convert');\n",
              "      buttonEl.style.display =\n",
              "        google.colab.kernel.accessAllowed ? 'block' : 'none';\n",
              "\n",
              "      async function convertToInteractive(key) {\n",
              "        const element = document.querySelector('#df-ab57b705-92db-4e95-8e29-6f3bbed64880');\n",
              "        const dataTable =\n",
              "          await google.colab.kernel.invokeFunction('convertToInteractive',\n",
              "                                                    [key], {});\n",
              "        if (!dataTable) return;\n",
              "\n",
              "        const docLinkHtml = 'Like what you see? Visit the ' +\n",
              "          '<a target=\"_blank\" href=https://colab.research.google.com/notebooks/data_table.ipynb>data table notebook</a>'\n",
              "          + ' to learn more about interactive tables.';\n",
              "        element.innerHTML = '';\n",
              "        dataTable['output_type'] = 'display_data';\n",
              "        await google.colab.output.renderOutput(dataTable, element);\n",
              "        const docLink = document.createElement('div');\n",
              "        docLink.innerHTML = docLinkHtml;\n",
              "        element.appendChild(docLink);\n",
              "      }\n",
              "    </script>\n",
              "  </div>\n",
              "\n",
              "\n",
              "<div id=\"df-2c67641a-2c8a-4768-b790-531fe98163c0\">\n",
              "  <button class=\"colab-df-quickchart\" onclick=\"quickchart('df-2c67641a-2c8a-4768-b790-531fe98163c0')\"\n",
              "            title=\"Suggest charts\"\n",
              "            style=\"display:none;\">\n",
              "\n",
              "<svg xmlns=\"http://www.w3.org/2000/svg\" height=\"24px\"viewBox=\"0 0 24 24\"\n",
              "     width=\"24px\">\n",
              "    <g>\n",
              "        <path d=\"M19 3H5c-1.1 0-2 .9-2 2v14c0 1.1.9 2 2 2h14c1.1 0 2-.9 2-2V5c0-1.1-.9-2-2-2zM9 17H7v-7h2v7zm4 0h-2V7h2v10zm4 0h-2v-4h2v4z\"/>\n",
              "    </g>\n",
              "</svg>\n",
              "  </button>\n",
              "\n",
              "<style>\n",
              "  .colab-df-quickchart {\n",
              "      --bg-color: #E8F0FE;\n",
              "      --fill-color: #1967D2;\n",
              "      --hover-bg-color: #E2EBFA;\n",
              "      --hover-fill-color: #174EA6;\n",
              "      --disabled-fill-color: #AAA;\n",
              "      --disabled-bg-color: #DDD;\n",
              "  }\n",
              "\n",
              "  [theme=dark] .colab-df-quickchart {\n",
              "      --bg-color: #3B4455;\n",
              "      --fill-color: #D2E3FC;\n",
              "      --hover-bg-color: #434B5C;\n",
              "      --hover-fill-color: #FFFFFF;\n",
              "      --disabled-bg-color: #3B4455;\n",
              "      --disabled-fill-color: #666;\n",
              "  }\n",
              "\n",
              "  .colab-df-quickchart {\n",
              "    background-color: var(--bg-color);\n",
              "    border: none;\n",
              "    border-radius: 50%;\n",
              "    cursor: pointer;\n",
              "    display: none;\n",
              "    fill: var(--fill-color);\n",
              "    height: 32px;\n",
              "    padding: 0;\n",
              "    width: 32px;\n",
              "  }\n",
              "\n",
              "  .colab-df-quickchart:hover {\n",
              "    background-color: var(--hover-bg-color);\n",
              "    box-shadow: 0 1px 2px rgba(60, 64, 67, 0.3), 0 1px 3px 1px rgba(60, 64, 67, 0.15);\n",
              "    fill: var(--button-hover-fill-color);\n",
              "  }\n",
              "\n",
              "  .colab-df-quickchart-complete:disabled,\n",
              "  .colab-df-quickchart-complete:disabled:hover {\n",
              "    background-color: var(--disabled-bg-color);\n",
              "    fill: var(--disabled-fill-color);\n",
              "    box-shadow: none;\n",
              "  }\n",
              "\n",
              "  .colab-df-spinner {\n",
              "    border: 2px solid var(--fill-color);\n",
              "    border-color: transparent;\n",
              "    border-bottom-color: var(--fill-color);\n",
              "    animation:\n",
              "      spin 1s steps(1) infinite;\n",
              "  }\n",
              "\n",
              "  @keyframes spin {\n",
              "    0% {\n",
              "      border-color: transparent;\n",
              "      border-bottom-color: var(--fill-color);\n",
              "      border-left-color: var(--fill-color);\n",
              "    }\n",
              "    20% {\n",
              "      border-color: transparent;\n",
              "      border-left-color: var(--fill-color);\n",
              "      border-top-color: var(--fill-color);\n",
              "    }\n",
              "    30% {\n",
              "      border-color: transparent;\n",
              "      border-left-color: var(--fill-color);\n",
              "      border-top-color: var(--fill-color);\n",
              "      border-right-color: var(--fill-color);\n",
              "    }\n",
              "    40% {\n",
              "      border-color: transparent;\n",
              "      border-right-color: var(--fill-color);\n",
              "      border-top-color: var(--fill-color);\n",
              "    }\n",
              "    60% {\n",
              "      border-color: transparent;\n",
              "      border-right-color: var(--fill-color);\n",
              "    }\n",
              "    80% {\n",
              "      border-color: transparent;\n",
              "      border-right-color: var(--fill-color);\n",
              "      border-bottom-color: var(--fill-color);\n",
              "    }\n",
              "    90% {\n",
              "      border-color: transparent;\n",
              "      border-bottom-color: var(--fill-color);\n",
              "    }\n",
              "  }\n",
              "</style>\n",
              "\n",
              "  <script>\n",
              "    async function quickchart(key) {\n",
              "      const quickchartButtonEl =\n",
              "        document.querySelector('#' + key + ' button');\n",
              "      quickchartButtonEl.disabled = true;  // To prevent multiple clicks.\n",
              "      quickchartButtonEl.classList.add('colab-df-spinner');\n",
              "      try {\n",
              "        const charts = await google.colab.kernel.invokeFunction(\n",
              "            'suggestCharts', [key], {});\n",
              "      } catch (error) {\n",
              "        console.error('Error during call to suggestCharts:', error);\n",
              "      }\n",
              "      quickchartButtonEl.classList.remove('colab-df-spinner');\n",
              "      quickchartButtonEl.classList.add('colab-df-quickchart-complete');\n",
              "    }\n",
              "    (() => {\n",
              "      let quickchartButtonEl =\n",
              "        document.querySelector('#df-2c67641a-2c8a-4768-b790-531fe98163c0 button');\n",
              "      quickchartButtonEl.style.display =\n",
              "        google.colab.kernel.accessAllowed ? 'block' : 'none';\n",
              "    })();\n",
              "  </script>\n",
              "</div>\n",
              "    </div>\n",
              "  </div>\n"
            ],
            "text/plain": [
              "   Start Date                               Departure Airport Departure City  \\\n",
              "0  10/08/2023                     Ie Shima Auxiliary Air Base         Iejima   \n",
              "1  08/20/2023  Mayor Buenaventura Vivas International Airport  Santo Domingo   \n",
              "2  11/04/2023                                 Berbera Airport        Berbera   \n",
              "3  09/01/2023                 Roshchino International Airport         Tyumen   \n",
              "4  05/27/2023                   Brustem Airfield Sint Truiden   Sint-truiden   \n",
              "\n",
              "  Departure Country                          Destination Airport  \\\n",
              "0             Japan                           Sandefjord Airport   \n",
              "1         Venezuela                               Akhiok Airport   \n",
              "2           Somalia                               Majors Airport   \n",
              "3            Russia                              Aalborg Airport   \n",
              "4           Belgium  Kenneth Kaunda International Airport Lusaka   \n",
              "\n",
              "  Destination City Destination Country                Layover Airport  \\\n",
              "0             Torp          Sandefjord               Roudnice Airport   \n",
              "1           Akhiok       United States  CapitÃ¡n Manuel RÃ­os Airbase   \n",
              "2        Greenvile       United States                  Roxas Airport   \n",
              "3          Aalborg             Denmark                  Benin Airport   \n",
              "4           Lusaka              Zambia  Cozumel International Airport   \n",
              "\n",
              "         Layover City Layover Country  Layover Time  Flight Duration  \\\n",
              "0  Roudnice nad Lebem  Czech Republic           4.0              6.0   \n",
              "1            Carrizal       Venezuela           5.0              1.0   \n",
              "2          Roxas City     Philippines           4.0             12.0   \n",
              "3               Benin         Nigeria           6.0             11.0   \n",
              "4             Cozumel          Mexico           4.0              1.0   \n",
              "\n",
              "          Airline Flight Number  \\\n",
              "0  Alexander-Byrd        EAU460   \n",
              "1   Cole and Sons        EIZ862   \n",
              "2      Morgan Inc        RXD676   \n",
              "3    Lucero-Lewis        HGE223   \n",
              "4     Bernard LLC        JRO437   \n",
              "\n",
              "                                                 NER  \n",
              "0  Ie Shima Auxiliary Air Base\\nIejima\\nJapan\\nSa...  \n",
              "1  Mayor Buenaventura Vivas International Airport...  \n",
              "2  Berbera Airport\\nBerbera\\nSomalia\\nMajors Airp...  \n",
              "3  Roshchino International Airport\\nTyumen\\nRussi...  \n",
              "4  Brustem Airfield Sint Truiden\\nSint-truiden\\nB...  "
            ]
          },
          "execution_count": 5,
          "metadata": {},
          "output_type": "execute_result"
        }
      ],
      "source": [
        "\n",
        "airline_df = pd.read_csv(\"/content/drive/MyDrive/AI Project/final_dataset.csv\")\n",
        "\n",
        "airline_df.head()"
      ]
    },
    {
      "cell_type": "code",
      "execution_count": null,
      "id": "9a8216b0-d1dc-472d-b07d-1be03acd70a5",
      "metadata": {
        "id": "9a8216b0-d1dc-472d-b07d-1be03acd70a5"
      },
      "outputs": [],
      "source": [
        "training_data = []\n",
        "system_message = \"You are a helpful travel assistant. Given the Start Date, Departure City, Destination City, you will provide the shortest travel details, including departure airport, destination airport, airline, flight number, layover details (if any), and total travel duration.\"\n",
        "\n",
        "def create_user_message(row):\n",
        "    message = f\"Start Date: {row['Start Date']}\\n\"\n",
        "    message += f\"Departure City: {row['Departure City']}\\n\"\n",
        "    message += f\"Destination City: {row['Destination City']}\\n\\n\"\n",
        "    message += \"Based on the given information, please provide the most suitable travel plan.\"\n",
        "    return message\n",
        "\n",
        "def prepare_example_conversation(row):\n",
        "    messages = []\n",
        "    messages.append({\"role\": \"system\", \"content\": system_message})\n",
        "    user_message = create_user_message(row)\n",
        "    messages.append({\"role\": \"user\", \"content\": user_message})\n",
        "    messages.append({\"role\": \"assistant\", \"content\": row[\"NER\"]})\n",
        "    return {\"messages\": messages}\n",
        "\n",
        "# Iterate over your dataset and create the training examples\n",
        "for index, row in airline_df.iterrows():\n",
        "    training_data.append(prepare_example_conversation(row))"
      ]
    },
    {
      "cell_type": "code",
      "execution_count": null,
      "id": "8f37aff9",
      "metadata": {
        "colab": {
          "base_uri": "https://localhost:8080/"
        },
        "id": "8f37aff9",
        "outputId": "8e015733-93a2-405f-febe-13f95f32707f"
      },
      "outputs": [
        {
          "name": "stdout",
          "output_type": "stream",
          "text": [
            "{'messages': [{'role': 'system', 'content': 'You are a helpful travel assistant. Given the Start Date, Departure City, Destination City, you will provide the shortest travel details, including departure airport, destination airport, airline, flight number, layover details (if any), and total travel duration.'}, {'role': 'user', 'content': 'Start Date: 10/08/2023\\nDeparture City: Iejima\\nDestination City: Torp\\n\\nBased on the given information, please provide the most suitable travel plan.'}, {'role': 'assistant', 'content': 'Ie Shima Auxiliary Air Base\\nIejima\\nJapan\\nSandefjord Airport\\nTorp\\nSandefjord\\nAlexander-Byrd\\nEAU460\\nRoudnice Airport\\nRoudnice nad Lebem\\nCzech Republic\\n4.0\\n6.0'}]}\n",
            "{'messages': [{'role': 'system', 'content': 'You are a helpful travel assistant. Given the Start Date, Departure City, Destination City, you will provide the shortest travel details, including departure airport, destination airport, airline, flight number, layover details (if any), and total travel duration.'}, {'role': 'user', 'content': 'Start Date: 08/20/2023\\nDeparture City: Santo Domingo\\nDestination City: Akhiok\\n\\nBased on the given information, please provide the most suitable travel plan.'}, {'role': 'assistant', 'content': 'Mayor Buenaventura Vivas International Airport\\nSanto Domingo\\nVenezuela\\nAkhiok Airport\\nAkhiok\\nUnited States\\nCole and Sons\\nEIZ862\\nCapitÃ¡n Manuel RÃ\\xados Airbase\\nCarrizal\\nVenezuela\\n5.0\\n1.0'}]}\n",
            "{'messages': [{'role': 'system', 'content': 'You are a helpful travel assistant. Given the Start Date, Departure City, Destination City, you will provide the shortest travel details, including departure airport, destination airport, airline, flight number, layover details (if any), and total travel duration.'}, {'role': 'user', 'content': 'Start Date: 11/04/2023\\nDeparture City: Berbera\\nDestination City: Greenvile\\n\\nBased on the given information, please provide the most suitable travel plan.'}, {'role': 'assistant', 'content': 'Berbera Airport\\nBerbera\\nSomalia\\nMajors Airport\\nGreenvile\\nUnited States\\nMorgan Inc\\nRXD676\\nRoxas Airport\\nRoxas City\\nPhilippines\\n4.0\\n12.0'}]}\n",
            "{'messages': [{'role': 'system', 'content': 'You are a helpful travel assistant. Given the Start Date, Departure City, Destination City, you will provide the shortest travel details, including departure airport, destination airport, airline, flight number, layover details (if any), and total travel duration.'}, {'role': 'user', 'content': 'Start Date: 09/01/2023\\nDeparture City: Tyumen\\nDestination City: Aalborg\\n\\nBased on the given information, please provide the most suitable travel plan.'}, {'role': 'assistant', 'content': 'Roshchino International Airport\\nTyumen\\nRussia\\nAalborg Airport\\nAalborg\\nDenmark\\nLucero-Lewis\\nHGE223\\nBenin Airport\\nBenin\\nNigeria\\n6.0\\n11.0'}]}\n",
            "{'messages': [{'role': 'system', 'content': 'You are a helpful travel assistant. Given the Start Date, Departure City, Destination City, you will provide the shortest travel details, including departure airport, destination airport, airline, flight number, layover details (if any), and total travel duration.'}, {'role': 'user', 'content': 'Start Date: 05/27/2023\\nDeparture City: Sint-truiden\\nDestination City: Lusaka\\n\\nBased on the given information, please provide the most suitable travel plan.'}, {'role': 'assistant', 'content': 'Brustem Airfield Sint Truiden\\nSint-truiden\\nBelgium\\nKenneth Kaunda International Airport Lusaka\\nLusaka\\nZambia\\nBernard LLC\\nJRO437\\nCozumel International Airport\\nCozumel\\nMexico\\n4.0\\n1.0'}]}\n"
          ]
        }
      ],
      "source": [
        "# use the first 100 rows of the dataset for training\n",
        "training_df = airline_df.loc[0:100]\n",
        "\n",
        "# apply the prepare_example_conversation function to each row of the training_df\n",
        "training_data = training_df.apply(prepare_example_conversation, axis=1).tolist()\n",
        "\n",
        "for example in training_data[:5]:\n",
        "    print(example)"
      ]
    },
    {
      "cell_type": "code",
      "execution_count": null,
      "id": "5b853efa-dfea-4770-ab88-9b7e17794421",
      "metadata": {
        "id": "5b853efa-dfea-4770-ab88-9b7e17794421"
      },
      "outputs": [],
      "source": [
        "validation_df = airline_df.loc[101:200]\n",
        "validation_data = validation_df.apply(prepare_example_conversation, axis=1).tolist()"
      ]
    },
    {
      "cell_type": "code",
      "execution_count": null,
      "id": "8d2eb207-2c2b-43f6-a613-64a7e92d494d",
      "metadata": {
        "id": "8d2eb207-2c2b-43f6-a613-64a7e92d494d"
      },
      "outputs": [],
      "source": [
        "def write_jsonl(data_list: list, filename: str) -> None:\n",
        "    with open(filename, \"w\") as out:\n",
        "        for ddict in data_list:\n",
        "            jout = json.dumps(ddict) + \"\\n\"\n",
        "            out.write(jout)"
      ]
    },
    {
      "cell_type": "code",
      "execution_count": null,
      "id": "8b53e7a2-1cac-4c5f-8ba4-3292ba2a0770",
      "metadata": {
        "id": "8b53e7a2-1cac-4c5f-8ba4-3292ba2a0770"
      },
      "outputs": [],
      "source": [
        "training_file_name = \"airline_details_finetune_training.jsonl\"\n",
        "write_jsonl(training_data, training_file_name)\n",
        "\n",
        "validation_file_name = \"airline_details_finetune_validation.jsonl\"\n",
        "write_jsonl(validation_data, validation_file_name)"
      ]
    },
    {
      "cell_type": "markdown",
      "id": "80b274a3",
      "metadata": {
        "id": "80b274a3"
      },
      "source": [
        "This is what the first 5 lines of our training `.jsonl` file look like:"
      ]
    },
    {
      "cell_type": "code",
      "execution_count": null,
      "id": "283c4ec2",
      "metadata": {
        "colab": {
          "base_uri": "https://localhost:8080/"
        },
        "id": "283c4ec2",
        "outputId": "24314cc1-d8d5-4a44-de35-99b0881a9cbf"
      },
      "outputs": [
        {
          "name": "stdout",
          "output_type": "stream",
          "text": [
            "{\"messages\": [{\"role\": \"system\", \"content\": \"You are a helpful travel assistant. Given the Start Date, Departure City, Destination City, you will provide the shortest travel details, including departure airport, destination airport, airline, flight number, layover details (if any), and total travel duration.\"}, {\"role\": \"user\", \"content\": \"Start Date: 10/08/2023\\nDeparture City: Iejima\\nDestination City: Torp\\n\\nBased on the given information, please provide the most suitable travel plan.\"}, {\"role\": \"assistant\", \"content\": \"Ie Shima Auxiliary Air Base\\nIejima\\nJapan\\nSandefjord Airport\\nTorp\\nSandefjord\\nAlexander-Byrd\\nEAU460\\nRoudnice Airport\\nRoudnice nad Lebem\\nCzech Republic\\n4.0\\n6.0\"}]}\n",
            "{\"messages\": [{\"role\": \"system\", \"content\": \"You are a helpful travel assistant. Given the Start Date, Departure City, Destination City, you will provide the shortest travel details, including departure airport, destination airport, airline, flight number, layover details (if any), and total travel duration.\"}, {\"role\": \"user\", \"content\": \"Start Date: 08/20/2023\\nDeparture City: Santo Domingo\\nDestination City: Akhiok\\n\\nBased on the given information, please provide the most suitable travel plan.\"}, {\"role\": \"assistant\", \"content\": \"Mayor Buenaventura Vivas International Airport\\nSanto Domingo\\nVenezuela\\nAkhiok Airport\\nAkhiok\\nUnited States\\nCole and Sons\\nEIZ862\\nCapit\\u00c3\\u00a1n Manuel R\\u00c3\\u00ados Airbase\\nCarrizal\\nVenezuela\\n5.0\\n1.0\"}]}\n",
            "{\"messages\": [{\"role\": \"system\", \"content\": \"You are a helpful travel assistant. Given the Start Date, Departure City, Destination City, you will provide the shortest travel details, including departure airport, destination airport, airline, flight number, layover details (if any), and total travel duration.\"}, {\"role\": \"user\", \"content\": \"Start Date: 11/04/2023\\nDeparture City: Berbera\\nDestination City: Greenvile\\n\\nBased on the given information, please provide the most suitable travel plan.\"}, {\"role\": \"assistant\", \"content\": \"Berbera Airport\\nBerbera\\nSomalia\\nMajors Airport\\nGreenvile\\nUnited States\\nMorgan Inc\\nRXD676\\nRoxas Airport\\nRoxas City\\nPhilippines\\n4.0\\n12.0\"}]}\n",
            "{\"messages\": [{\"role\": \"system\", \"content\": \"You are a helpful travel assistant. Given the Start Date, Departure City, Destination City, you will provide the shortest travel details, including departure airport, destination airport, airline, flight number, layover details (if any), and total travel duration.\"}, {\"role\": \"user\", \"content\": \"Start Date: 09/01/2023\\nDeparture City: Tyumen\\nDestination City: Aalborg\\n\\nBased on the given information, please provide the most suitable travel plan.\"}, {\"role\": \"assistant\", \"content\": \"Roshchino International Airport\\nTyumen\\nRussia\\nAalborg Airport\\nAalborg\\nDenmark\\nLucero-Lewis\\nHGE223\\nBenin Airport\\nBenin\\nNigeria\\n6.0\\n11.0\"}]}\n",
            "{\"messages\": [{\"role\": \"system\", \"content\": \"You are a helpful travel assistant. Given the Start Date, Departure City, Destination City, you will provide the shortest travel details, including departure airport, destination airport, airline, flight number, layover details (if any), and total travel duration.\"}, {\"role\": \"user\", \"content\": \"Start Date: 05/27/2023\\nDeparture City: Sint-truiden\\nDestination City: Lusaka\\n\\nBased on the given information, please provide the most suitable travel plan.\"}, {\"role\": \"assistant\", \"content\": \"Brustem Airfield Sint Truiden\\nSint-truiden\\nBelgium\\nKenneth Kaunda International Airport Lusaka\\nLusaka\\nZambia\\nBernard LLC\\nJRO437\\nCozumel International Airport\\nCozumel\\nMexico\\n4.0\\n1.0\"}]}\n"
          ]
        }
      ],
      "source": [
        "# print the first 5 lines of the training file\n",
        "!head -n 5 airline_details_finetune_training.jsonl"
      ]
    },
    {
      "cell_type": "markdown",
      "id": "0d149e2e-50dd-45c1-bd8d-1291975670b4",
      "metadata": {
        "id": "0d149e2e-50dd-45c1-bd8d-1291975670b4"
      },
      "source": [
        "### Upload files\n",
        "\n",
        "You can now upload the files to our `Files` endpoint to be used by the fine-tuned model.\n"
      ]
    },
    {
      "cell_type": "code",
      "execution_count": null,
      "id": "69462d9e-e6bd-49b9-a064-9eae4ea5b7a8",
      "metadata": {
        "colab": {
          "base_uri": "https://localhost:8080/"
        },
        "id": "69462d9e-e6bd-49b9-a064-9eae4ea5b7a8",
        "outputId": "b23c48fa-eb93-45af-bbd6-eda43a7a1d71"
      },
      "outputs": [
        {
          "name": "stdout",
          "output_type": "stream",
          "text": [
            "Training file ID: file-IISv5YuyaIun14xPRgHbBYj8\n",
            "Validation file ID: file-29cO9onXhQylD8Xy7wFLVHVv\n"
          ]
        }
      ],
      "source": [
        "with open(training_file_name, \"rb\") as training_fd:\n",
        "    training_response = client.files.create(\n",
        "        file=training_fd, purpose=\"fine-tune\"\n",
        "    )\n",
        "\n",
        "training_file_id = training_response.id\n",
        "\n",
        "with open(validation_file_name, \"rb\") as validation_fd:\n",
        "    validation_response = client.files.create(\n",
        "        file=validation_fd, purpose=\"fine-tune\"\n",
        "    )\n",
        "validation_file_id = validation_response.id\n",
        "\n",
        "print(\"Training file ID:\", training_file_id)\n",
        "print(\"Validation file ID:\", validation_file_id)"
      ]
    },
    {
      "cell_type": "markdown",
      "id": "d61cd381-63ad-4ed9-b0be-47a438891028",
      "metadata": {
        "id": "d61cd381-63ad-4ed9-b0be-47a438891028"
      },
      "source": [
        "## Fine-tuning\n",
        "\n",
        "Now we can create our fine-tuning job with the generated files and an optional suffix to identify the model. The response will contain an `id` which you can use to retrieve updates on the job.\n",
        "\n",
        "Note: The files have to first be processed by our system, so you might get a `File not ready` error. In that case, simply retry a few minutes later.\n"
      ]
    },
    {
      "cell_type": "code",
      "execution_count": null,
      "id": "05541ceb-5628-447e-962d-7e57c112439c",
      "metadata": {
        "colab": {
          "base_uri": "https://localhost:8080/"
        },
        "id": "05541ceb-5628-447e-962d-7e57c112439c",
        "outputId": "95fecea9-9626-483a-8eea-b1b9792677da"
      },
      "outputs": [
        {
          "name": "stdout",
          "output_type": "stream",
          "text": [
            "Job ID: ftjob-RTzcyZn0tjXHNlRkkroB1Qxk\n",
            "Status: validating_files\n"
          ]
        }
      ],
      "source": [
        "response = client.fine_tuning.jobs.create(\n",
        "    training_file=training_file_id,\n",
        "    validation_file=validation_file_id,\n",
        "    model=\"gpt-3.5-turbo\",\n",
        "    suffix=\"airline-ner\",\n",
        ")\n",
        "\n",
        "job_id = response.id\n",
        "\n",
        "print(\"Job ID:\", response.id)\n",
        "print(\"Status:\", response.status)"
      ]
    },
    {
      "cell_type": "markdown",
      "id": "1de3ed71-f2d4-4138-95a3-70da187a007e",
      "metadata": {
        "id": "1de3ed71-f2d4-4138-95a3-70da187a007e"
      },
      "source": [
        "#### Check job status\n"
      ]
    },
    {
      "cell_type": "code",
      "execution_count": null,
      "id": "d7392f48",
      "metadata": {
        "colab": {
          "base_uri": "https://localhost:8080/"
        },
        "id": "d7392f48",
        "outputId": "c4e5b50d-8009-442d-c6d9-3a62312d9aff"
      },
      "outputs": [
        {
          "name": "stdout",
          "output_type": "stream",
          "text": [
            "Job ID: ftjob-RTzcyZn0tjXHNlRkkroB1Qxk\n",
            "Status: validating_files\n",
            "Trained Tokens: None\n"
          ]
        }
      ],
      "source": [
        "response = client.fine_tuning.jobs.retrieve(job_id)\n",
        "\n",
        "print(\"Job ID:\", response.id)\n",
        "print(\"Status:\", response.status)\n",
        "print(\"Trained Tokens:\", response.trained_tokens)\n"
      ]
    },
    {
      "cell_type": "markdown",
      "id": "30a57fbb",
      "metadata": {
        "id": "30a57fbb"
      },
      "source": [
        "We can track the progress of the fine-tune with the events endpoint.\n"
      ]
    },
    {
      "cell_type": "code",
      "execution_count": null,
      "id": "08cace28",
      "metadata": {
        "colab": {
          "base_uri": "https://localhost:8080/"
        },
        "id": "08cace28",
        "outputId": "87161ec4-942f-46b9-bf46-50730a6d8306"
      },
      "outputs": [
        {
          "name": "stdout",
          "output_type": "stream",
          "text": [
            "Step 287/303: training loss=0.80\n",
            "Step 288/303: training loss=0.95\n",
            "Step 289/303: training loss=0.91\n",
            "Step 290/303: training loss=0.79, validation loss=0.79\n",
            "Step 291/303: training loss=0.75\n",
            "Step 292/303: training loss=1.02\n",
            "Step 293/303: training loss=1.25\n",
            "Step 294/303: training loss=0.70\n",
            "Step 295/303: training loss=0.58\n",
            "Step 296/303: training loss=0.74\n",
            "Step 297/303: training loss=0.78\n",
            "Step 298/303: training loss=0.85\n",
            "Step 299/303: training loss=0.87\n",
            "Step 300/303: training loss=0.62, validation loss=0.71\n",
            "Step 301/303: training loss=0.83\n",
            "Step 302/303: training loss=0.82\n",
            "Step 303/303: training loss=0.83, full validation loss=0.86\n",
            "Checkpoint created at step 101 with Snapshot ID: ft:gpt-3.5-turbo-0125:personal:airline-ner:9NvkGYNV:ckpt-step-101\n",
            "Checkpoint created at step 202 with Snapshot ID: ft:gpt-3.5-turbo-0125:personal:airline-ner:9NvkGRl0:ckpt-step-202\n",
            "New fine-tuned model created: ft:gpt-3.5-turbo-0125:personal:airline-ner:9NvkGplz\n"
          ]
        }
      ],
      "source": [
        "response = client.fine_tuning.jobs.list_events(job_id)\n",
        "\n",
        "events = response.data\n",
        "events.reverse()\n",
        "\n",
        "for event in events:\n",
        "    print(event.message)"
      ]
    },
    {
      "cell_type": "markdown",
      "id": "d0da4e32",
      "metadata": {
        "id": "d0da4e32"
      },
      "source": [
        "Fine-tuned model ID from the job:"
      ]
    },
    {
      "cell_type": "code",
      "execution_count": null,
      "id": "40b28c26",
      "metadata": {
        "colab": {
          "base_uri": "https://localhost:8080/"
        },
        "id": "40b28c26",
        "outputId": "d84068f6-78ff-4ec7-aac0-fd951be98676"
      },
      "outputs": [
        {
          "name": "stdout",
          "output_type": "stream",
          "text": [
            "Fine-tuned model ID: ft:gpt-3.5-turbo-0125:personal:airline-ner:9NvkGplz\n"
          ]
        }
      ],
      "source": [
        "response = client.fine_tuning.jobs.retrieve(job_id)\n",
        "fine_tuned_model_id = response.fine_tuned_model\n",
        "\n",
        "if fine_tuned_model_id is None:\n",
        "    raise RuntimeError(\"Fine-tuned model ID not found. Your job has likely not been completed yet.\")\n",
        "\n",
        "print(\"Fine-tuned model ID:\", fine_tuned_model_id)"
      ]
    },
    {
      "cell_type": "markdown",
      "id": "0025e392-84cd-4566-a384-ea31ca43e567",
      "metadata": {
        "id": "0025e392-84cd-4566-a384-ea31ca43e567"
      },
      "source": [
        "## Inference"
      ]
    },
    {
      "cell_type": "code",
      "execution_count": null,
      "id": "1c7de631-b68f-4eff-9ae7-051641579c2b",
      "metadata": {
        "colab": {
          "base_uri": "https://localhost:8080/"
        },
        "id": "1c7de631-b68f-4eff-9ae7-051641579c2b",
        "outputId": "ae6cf7b8-6375-43ab-8855-5edb0023c136"
      },
      "outputs": [
        {
          "name": "stdout",
          "output_type": "stream",
          "text": [
            "[{'content': 'You are a helpful travel assistant. Given the Start Date, '\n",
            "             'Departure City, Destination City, you will provide the shortest '\n",
            "             'travel details, including departure airport, destination '\n",
            "             'airport, airline, flight number, layover details (if any), and '\n",
            "             'total travel duration.',\n",
            "  'role': 'system'},\n",
            " {'content': 'Start Date: 06/21/2023\\n'\n",
            "             'Departure City: Everett\\n'\n",
            "             'Destination City: Nova Iguacu\\n'\n",
            "             '\\n'\n",
            "             'Based on the given information, please provide the most suitable '\n",
            "             'travel plan.',\n",
            "  'role': 'user'}]\n"
          ]
        }
      ],
      "source": [
        "test_df = airline_df.loc[201:300]\n",
        "test_row = test_df.iloc[0]\n",
        "test_messages = []\n",
        "test_messages.append({\"role\": \"system\", \"content\": system_message})\n",
        "user_message = create_user_message(test_row)\n",
        "test_messages.append({\"role\": \"user\", \"content\": user_message})\n",
        "\n",
        "pprint(test_messages)"
      ]
    },
    {
      "cell_type": "code",
      "execution_count": null,
      "id": "1a1d2589",
      "metadata": {
        "colab": {
          "base_uri": "https://localhost:8080/"
        },
        "id": "1a1d2589",
        "outputId": "e35bd0b4-35b3-4acc-8fea-d825ec54cd38"
      },
      "outputs": [
        {
          "name": "stdout",
          "output_type": "stream",
          "text": [
            "Snohomish County (Paine Field)\n",
            "Everett\n",
            "United States\n",
            "Aeroporto de Nova Iguacu\n",
            "Nova Iguacu\n",
            "Brazil\n",
            "Hernandez, Johnson and Johnson\n",
            "JQK292\n",
            "Kampong Chhnang Airport\n",
            "Kompong Chhnang\n",
            "Cambodia\n",
            "6.0\n",
            "11.0\n"
          ]
        }
      ],
      "source": [
        "response = client.chat.completions.create(\n",
        "    model=fine_tuned_model_id, messages=test_messages, temperature=0, max_tokens=500\n",
        ")\n",
        "print(response.choices[0].message.content)"
      ]
    },
    {
      "cell_type": "code",
      "execution_count": null,
      "id": "kNQyCkhPbYhY",
      "metadata": {
        "colab": {
          "base_uri": "https://localhost:8080/"
        },
        "id": "kNQyCkhPbYhY",
        "outputId": "699a3582-a3e4-4099-c87e-b55e46199f09"
      },
      "outputs": [
        {
          "name": "stdout",
          "output_type": "stream",
          "text": [
            "Prompt: 07/15/2023,Guarapuava,Abu Dhabi\n",
            "\n",
            "Based on the given information, please provide the shortest travel details.\n",
            "Output: ChatCompletionMessage(content='Guarapuava, Abu Dhabi, Brazil\\nGuarapuava\\nBrazil', role='assistant', function_call=None, tool_calls=None)\n"
          ]
        }
      ],
      "source": [
        "import openai\n",
        "\n",
        "# Set your OpenAI API key\n",
        "openai.api_key = \"api_key\"\n",
        "\n",
        "def set_open_params(model=None, temperature=0.7, max_tokens=256, top_p=1, frequency_penalty=0, presence_penalty=0):\n",
        "    \"\"\"Set OpenAI parameters\"\"\"\n",
        "    openai_params = {}\n",
        "    if model is None:\n",
        "        print(\"Please provide a valid fine-tuned model ID.\")\n",
        "        return None\n",
        "    openai_params['model'] = model\n",
        "    openai_params['temperature'] = temperature\n",
        "    openai_params['max_tokens'] = max_tokens\n",
        "    openai_params['top_p'] = top_p\n",
        "    openai_params['frequency_penalty'] = frequency_penalty\n",
        "    openai_params['presence_penalty'] = presence_penalty\n",
        "    return openai_params\n",
        "\n",
        "def get_completion(params, messages):\n",
        "    \"\"\"GET completion from OpenAI API\"\"\"\n",
        "    response = openai.chat.completions.create(\n",
        "        model=params['model'],\n",
        "        messages=messages,\n",
        "        temperature=params['temperature'],\n",
        "        max_tokens=params['max_tokens'],\n",
        "        top_p=params['top_p'],\n",
        "        frequency_penalty=params['frequency_penalty'],\n",
        "        presence_penalty=params['presence_penalty']\n",
        "    )\n",
        "    return response.choices[0].message\n",
        "\n",
        "# Test with your fine-tuned model\n",
        "fine_tuned_model_id = \"ft:gpt-3.5-turbo-0125:personal:airline-ner:9NvkGplz\"\n",
        "params = set_open_params(model=fine_tuned_model_id)\n",
        "\n",
        "if params is not None:\n",
        "    prompt = \"07/15/2023,Guarapuava,Abu Dhabi\\n\\nBased on the given information, please provide the shortest travel details.\"\n",
        "    messages = [{\"role\": \"system\", \"content\": \"You are a helpful travel assistant.\"}, {\"role\": \"user\", \"content\": prompt}]\n",
        "    output = get_completion(params, messages)\n",
        "    print(\"Prompt:\", prompt)\n",
        "    print(\"Output:\", output)"
      ]
    },
    {
      "cell_type": "code",
      "execution_count": null,
      "id": "YHFh36kYbYeB",
      "metadata": {
        "colab": {
          "base_uri": "https://localhost:8080/"
        },
        "id": "YHFh36kYbYeB",
        "outputId": "ebe37915-4d67-4a66-8d11-9f568310649a"
      },
      "outputs": [
        {
          "name": "stdout",
          "output_type": "stream",
          "text": [
            "Prompt: 10/15/2023,Beverly,Dirkou\n",
            "\n",
            "Based on the given information, please provide the shortest travel details.\n",
            "Output: ChatCompletionMessage(content='Beverly\\nNigeria\\nDirkou\\nNiger\\n3,099.0\\n3.25', role='assistant', function_call=None, tool_calls=None)\n"
          ]
        }
      ],
      "source": [
        "if params is not None:\n",
        "    prompt = \"10/15/2023,Beverly,Dirkou\\n\\nBased on the given information, please provide the shortest travel details.\"\n",
        "    messages = [{\"role\": \"system\", \"content\": \"You are a helpful travel assistant.\"}, {\"role\": \"user\", \"content\": prompt}]\n",
        "    output = get_completion(params, messages)\n",
        "    print(\"Prompt:\", prompt)\n",
        "    print(\"Output:\", output)"
      ]
    },
    {
      "cell_type": "code",
      "execution_count": null,
      "id": "RyJrKSkGbYbo",
      "metadata": {
        "colab": {
          "base_uri": "https://localhost:8080/"
        },
        "id": "RyJrKSkGbYbo",
        "outputId": "75025c73-4f7d-45ad-bd7f-d791c26211cc"
      },
      "outputs": [
        {
          "name": "stdout",
          "output_type": "stream",
          "text": [
            "Prompt: 08/20/2023,Quilpie,Tepic\n",
            "\n",
            "Based on the given information, please provide the shortest travel details.\n",
            "Output: ChatCompletionMessage(content='Quilpie, Queensland, Australia\\nTepic, Nayarit, Mexico', role='assistant', function_call=None, tool_calls=None)\n"
          ]
        }
      ],
      "source": [
        "if params is not None:\n",
        "    prompt = \"08/20/2023,Quilpie,Tepic\\n\\nBased on the given information, please provide the shortest travel details.\"\n",
        "    messages = [{\"role\": \"system\", \"content\": \"You are a helpful travel assistant.\"}, {\"role\": \"user\", \"content\": prompt}]\n",
        "    output = get_completion(params, messages)\n",
        "    print(\"Prompt:\", prompt)\n",
        "    print(\"Output:\", output)"
      ]
    },
    {
      "cell_type": "code",
      "execution_count": null,
      "id": "AckEqSD2bYYw",
      "metadata": {
        "colab": {
          "base_uri": "https://localhost:8080/"
        },
        "id": "AckEqSD2bYYw",
        "outputId": "a98e7d7a-24ff-4727-e9a1-68028bcd9cc3"
      },
      "outputs": [
        {
          "name": "stdout",
          "output_type": "stream",
          "text": [
            "Prompt: 05/30/2023,Liege,Mercury\n",
            "\n",
            "Based on the given information, please provide the shortest travel details.\n",
            "Output: ChatCompletionMessage(content='Liege\\nMercury\\nBelgium\\n-17.625\\n29.5', role='assistant', function_call=None, tool_calls=None)\n"
          ]
        }
      ],
      "source": [
        "if params is not None:\n",
        "    prompt = \"05/30/2023,Liege,Mercury\\n\\nBased on the given information, please provide the shortest travel details.\"\n",
        "    messages = [{\"role\": \"system\", \"content\": \"You are a helpful travel assistant.\"}, {\"role\": \"user\", \"content\": prompt}]\n",
        "    output = get_completion(params, messages)\n",
        "    print(\"Prompt:\", prompt)\n",
        "    print(\"Output:\", output)"
      ]
    },
    {
      "cell_type": "code",
      "execution_count": null,
      "id": "BfLIBaJqDedZ",
      "metadata": {
        "id": "BfLIBaJqDedZ"
      },
      "outputs": [],
      "source": []
    }
  ],
  "metadata": {
    "colab": {
      "provenance": []
    },
    "kernelspec": {
      "display_name": "Python 3",
      "language": "python",
      "name": "python3"
    },
    "language_info": {
      "codemirror_mode": {
        "name": "ipython",
        "version": 3
      },
      "file_extension": ".py",
      "mimetype": "text/x-python",
      "name": "python",
      "nbconvert_exporter": "python",
      "pygments_lexer": "ipython3",
      "version": "3.11.3"
    }
  },
  "nbformat": 4,
  "nbformat_minor": 5
}
